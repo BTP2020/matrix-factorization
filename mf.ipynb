{
 "cells": [
  {
   "cell_type": "code",
   "execution_count": 1,
   "metadata": {},
   "outputs": [],
   "source": [
    "%matplotlib inline\n",
    "import matplotlib\n",
    "import matplotlib.pyplot as plt\n",
    "import numpy as np\n",
    "import json"
   ]
  },
  {
   "cell_type": "code",
   "execution_count": 2,
   "metadata": {},
   "outputs": [],
   "source": [
    "goodreads_books_poetry = {}\n",
    "goodreads_interactions_poetry = {}\n",
    "goodreads_reviews_poetry = {}\n",
    "book_ids = set()\n",
    "book_review_count = {}\n",
    "user_ids = set()\n",
    "ratings = {}\n",
    "ratings_inv = {}"
   ]
  },
  {
   "cell_type": "code",
   "execution_count": 3,
   "metadata": {},
   "outputs": [],
   "source": [
    "with open('../goodreads/goodreads_books_poetry.json', \"r\") as f:\n",
    "    for l in f:\n",
    "        book = json.loads(l)\n",
    "        goodreads_books_poetry[book['book_id']] = {}\n",
    "        for key, value in book.items():\n",
    "            goodreads_books_poetry[book['book_id']]['key'] = value\n",
    "        #book_ids.add(book['book_id'])"
   ]
  },
  {
   "cell_type": "code",
   "execution_count": 4,
   "metadata": {},
   "outputs": [],
   "source": [
    "with open('../goodreads/goodreads_interactions_poetry.json', \"r\") as f:\n",
    "    for l in f:\n",
    "        interaction = json.loads(l)\n",
    "        # ignore review if user has not read book\n",
    "        #if not interaction['is_read']:\n",
    "        #    continue\n",
    "\n",
    "        user_id = interaction['user_id']\n",
    "        book_id = interaction['book_id']\n",
    "        rating = interaction['rating']\n",
    "        user_ids.add(user_id)\n",
    "        book_ids.add(book_id)\n",
    "\n",
    "        ratings[user_id] = {book_id: rating}\n",
    "        ratings_inv[book_id] = {user_id: rating}\n",
    "        if book_id not in book_review_count:\n",
    "            book_review_count[book_id] = 0\n",
    "        else:\n",
    "            book_review_count[book_id] += 1"
   ]
  },
  {
   "cell_type": "code",
   "execution_count": 23,
   "metadata": {},
   "outputs": [],
   "source": [
    "# choosing only those people and books with more number of reviews\n",
    "sorted_book_ids = []\n",
    "\n",
    "for book_id, rating in sorted(book_review_count.items(), key = lambda kv:(-1*kv[1])):\n",
    "    sorted_book_ids.append(book_id)"
   ]
  },
  {
   "cell_type": "code",
   "execution_count": 25,
   "metadata": {},
   "outputs": [],
   "source": [
    "# generate the matrix\n",
    "ratings_matrix = []\n",
    "\n",
    "total_rows = 1000\n",
    "total_columns = 10000\n",
    "\n",
    "nr = 0\n",
    "\n",
    "for user_id in user_ids:\n",
    "    nr += 1\n",
    "    if nr > total_rows:\n",
    "        break\n",
    "    nc = 0\n",
    "    r = []\n",
    "    for book_id in sorted_book_ids: \n",
    "        nc += 1\n",
    "        if nc > total_columns:\n",
    "            break\n",
    "        if user_id in ratings and book_id in ratings[user_id]:\n",
    "            r.append(ratings[user_id][book_id])\n",
    "        else:\n",
    "            r.append(0)\n",
    "    ratings_matrix.append(r)"
   ]
  },
  {
   "cell_type": "code",
   "execution_count": 17,
   "metadata": {},
   "outputs": [],
   "source": [
    "class MF():\n",
    "    \n",
    "    def __init__(self, R, K, alpha, beta, iterations):\n",
    "        \"\"\"\n",
    "        Perform matrix factorization to predict empty\n",
    "        entries in a matrix.\n",
    "        \n",
    "        Arguments\n",
    "        - R (ndarray)   : user-item rating matrix\n",
    "        - K (int)       : number of latent dimensions\n",
    "        - alpha (float) : learning rate\n",
    "        - beta (float)  : regularization parameter\n",
    "        \"\"\"\n",
    "        \n",
    "        self.R = R\n",
    "        self.num_users, self.num_items = R.shape\n",
    "        self.K = K\n",
    "        self.alpha = alpha\n",
    "        self.beta = beta\n",
    "        self.iterations = iterations\n",
    "\n",
    "    def train(self):\n",
    "        # Initialize user and item latent feature matrice\n",
    "        self.P = np.random.normal(scale=1./self.K, size=(self.num_users, self.K))\n",
    "        self.Q = np.random.normal(scale=1./self.K, size=(self.num_items, self.K))\n",
    "        \n",
    "        # Initialize the biases\n",
    "        self.b_u = np.zeros(self.num_users)\n",
    "        self.b_i = np.zeros(self.num_items)\n",
    "        self.b = np.mean(self.R[np.where(self.R != 0)])\n",
    "        \n",
    "        # Create a list of training samples\n",
    "        self.samples = [\n",
    "            (i, j, self.R[i, j])\n",
    "            for i in range(self.num_users)\n",
    "            for j in range(self.num_items)\n",
    "            if self.R[i, j] > 0\n",
    "        ]\n",
    "        \n",
    "        # Perform stochastic gradient descent for number of iterations\n",
    "        training_process = []\n",
    "        for i in range(self.iterations):\n",
    "            np.random.shuffle(self.samples)\n",
    "            self.sgd()\n",
    "            mse = self.mse()\n",
    "            training_process.append((i, mse))\n",
    "            if (i+1) % 10 == 0:\n",
    "                print(\"Iteration: %d ; error = %.4f\" % (i+1, mse))\n",
    "        \n",
    "        return training_process\n",
    "\n",
    "    def mse(self):\n",
    "        \"\"\"\n",
    "        A function to compute the total mean square error\n",
    "        \"\"\"\n",
    "        xs, ys = self.R.nonzero()\n",
    "        predicted = self.full_matrix()\n",
    "        error = 0\n",
    "        for x, y in zip(xs, ys):\n",
    "            error += pow(self.R[x, y] - predicted[x, y], 2)\n",
    "        return np.sqrt(error)\n",
    "\n",
    "    def sgd(self):\n",
    "        \"\"\"\n",
    "        Perform stochastic graident descent\n",
    "        \"\"\"\n",
    "        for i, j, r in self.samples:\n",
    "            # Computer prediction and error\n",
    "            prediction = self.get_rating(i, j)\n",
    "            e = (r - prediction)\n",
    "            \n",
    "            # Update biases\n",
    "            self.b_u[i] += self.alpha * (e - self.beta * self.b_u[i])\n",
    "            self.b_i[j] += self.alpha * (e - self.beta * self.b_i[j])\n",
    "            \n",
    "            # Create copy of row of P since we need to update it but use older values for update on Q\n",
    "            P_i = self.P[i, :][:]\n",
    "            \n",
    "            # Update user and item latent feature matrices\n",
    "            self.P[i, :] += self.alpha * (e * self.Q[j, :] - self.beta * self.P[i,:])\n",
    "            self.Q[j, :] += self.alpha * (e * P_i - self.beta * self.Q[j,:])\n",
    "\n",
    "    def get_rating(self, i, j):\n",
    "        \"\"\"\n",
    "        Get the predicted rating of user i and item j\n",
    "        \"\"\"\n",
    "        prediction = self.b + self.b_u[i] + self.b_i[j] + self.P[i, :].dot(self.Q[j, :].T)\n",
    "        return prediction\n",
    "    \n",
    "    def full_matrix(self):\n",
    "        \"\"\"\n",
    "        Computer the full matrix using the resultant biases, P and Q\n",
    "        \"\"\"\n",
    "        return mf.b + mf.b_u[:,np.newaxis] + mf.b_i[np.newaxis:,] + mf.P.dot(mf.Q.T)\n"
   ]
  },
  {
   "cell_type": "code",
   "execution_count": 21,
   "metadata": {},
   "outputs": [],
   "source": [
    "import random\n",
    "\n",
    "Rlist = []\n",
    "for i in range(7):\n",
    "    l = []\n",
    "    for j in range(5):\n",
    "        l.append(random.randint(0, 5))\n",
    "    Rlist.append(l)"
   ]
  },
  {
   "cell_type": "code",
   "execution_count": 22,
   "metadata": {},
   "outputs": [
    {
     "name": "stdout",
     "output_type": "stream",
     "text": [
      "Iteration: 10 ; error = 2.9302\n",
      "Iteration: 20 ; error = 2.5394\n",
      "\n",
      "P x Q:\n",
      "[[5.80382456 2.2168805  4.96799685 3.99955089 2.62086897]\n",
      " [3.65296835 4.62670131 4.21245864 1.15949234 4.66917073]\n",
      " [2.81067302 3.91196413 1.29558366 4.44180019 3.81439921]\n",
      " [3.86387237 2.35526464 2.00732236 4.9933705  2.49267636]\n",
      " [2.03886379 2.3967558  2.03359744 0.37630085 2.4649084 ]\n",
      " [1.3335952  4.15867434 0.75837132 1.89552772 3.94982205]\n",
      " [4.08717482 0.77090241 3.98217495 0.9715123  1.19326858]]\n",
      "\n",
      "Global bias:\n",
      "2.8275862068965516\n",
      "\n",
      "User bias:\n",
      "[ 1.14534418  0.91986721  0.13561938  0.08609138 -0.9534795  -0.61454645\n",
      " -0.45832278]\n",
      "\n",
      "Item bias:\n",
      "[ 0.4461247   0.13604791 -0.08007205 -0.49484006  0.23769014]\n"
     ]
    }
   ],
   "source": [
    "R = np.array(Rlist)\n",
    "\n",
    "mf = MF(R, K=2, alpha=0.1, beta=0.01, iterations=20)\n",
    "training_process = mf.train()\n",
    "print()\n",
    "print(\"P x Q:\")\n",
    "print(mf.full_matrix())\n",
    "print()\n",
    "print(\"Global bias:\")\n",
    "print(mf.b)\n",
    "print()\n",
    "print(\"User bias:\")\n",
    "print(mf.b_u)\n",
    "print()\n",
    "print(\"Item bias:\")\n",
    "print(mf.b_i)"
   ]
  },
  {
   "cell_type": "code",
   "execution_count": 10,
   "metadata": {},
   "outputs": [
    {
     "data": {
      "image/png": "[encoded data removed]",
      "text/plain": [
       "<Figure size 1152x288 with 1 Axes>"
      ]
     },
     "metadata": {
      "needs_background": "light"
     },
     "output_type": "display_data"
    }
   ],
   "source": [
    "x = [x for x, y in training_process]\n",
    "y = [y for x, y in training_process]\n",
    "plt.figure(figsize=((16,4)))\n",
    "plt.plot(x, y)\n",
    "plt.xticks(x, x)\n",
    "plt.xlabel(\"Iterations\")\n",
    "plt.ylabel(\"Mean Square Error\")\n",
    "plt.grid(axis=\"y\")"
   ]
  },
  {
   "cell_type": "code",
   "execution_count": null,
   "metadata": {},
   "outputs": [],
   "source": [
    "\"\""
   ]
  }
 ],
 "metadata": {
  "kernelspec": {
   "display_name": "Python 3",
   "language": "python",
   "name": "python3"
  },
  "language_info": {
   "codemirror_mode": {
    "name": "ipython",
    "version": 3
   },
   "file_extension": ".py",
   "mimetype": "text/x-python",
   "name": "python",
   "nbconvert_exporter": "python",
   "pygments_lexer": "ipython3",
   "version": "3.7.1"
  }
 },
 "nbformat": 4,
 "nbformat_minor": 2
}
